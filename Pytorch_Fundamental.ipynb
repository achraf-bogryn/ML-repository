{
  "nbformat": 4,
  "nbformat_minor": 0,
  "metadata": {
    "colab": {
      "provenance": [],
      "gpuType": "T4",
      "authorship_tag": "ABX9TyNie9/vNm40kiFyJ3Jq4w5s",
      "include_colab_link": true
    },
    "kernelspec": {
      "name": "python3",
      "display_name": "Python 3"
    },
    "language_info": {
      "name": "python"
    },
    "accelerator": "GPU"
  },
  "cells": [
    {
      "cell_type": "markdown",
      "metadata": {
        "id": "view-in-github",
        "colab_type": "text"
      },
      "source": [
        "<a href=\"https://colab.research.google.com/github/achraf-bogryn/ML-repository/blob/main/Pytorch_Fundamental.ipynb\" target=\"_parent\"><img src=\"https://colab.research.google.com/assets/colab-badge.svg\" alt=\"Open In Colab\"/></a>"
      ]
    },
    {
      "cell_type": "markdown",
      "source": [
        "##Pytorch Fundamental\n",
        "####Resource Notebook : https://www.learnpytorch.io/00_pytorch_fundamentals/#introduction-to-tensors\n",
        "\n",
        "####Repository : https://github.com/mrdbourke/pytorch-deep-learning/tree/main"
      ],
      "metadata": {
        "id": "BGgdkeg5EeqO"
      }
    },
    {
      "cell_type": "code",
      "source": [],
      "metadata": {
        "id": "5Cs-caz4IhaW"
      },
      "execution_count": null,
      "outputs": []
    },
    {
      "cell_type": "code",
      "execution_count": null,
      "metadata": {
        "colab": {
          "base_uri": "https://localhost:8080/"
        },
        "id": "TYLzJdpPBw7E",
        "outputId": "3aa79271-cb15-4b72-c439-0b274dca89da"
      },
      "outputs": [
        {
          "output_type": "stream",
          "name": "stdout",
          "text": [
            "hello I'm execited\n"
          ]
        }
      ],
      "source": [
        "print(\"hello I'm execited\")"
      ]
    },
    {
      "cell_type": "code",
      "source": [
        "!nvidia-smi"
      ],
      "metadata": {
        "colab": {
          "base_uri": "https://localhost:8080/"
        },
        "id": "5hT3hdX7Cgb3",
        "outputId": "622e3609-3d54-4e79-e618-b5a1c415b4f8"
      },
      "execution_count": null,
      "outputs": [
        {
          "output_type": "stream",
          "name": "stdout",
          "text": [
            "Tue May  7 21:52:09 2024       \n",
            "+---------------------------------------------------------------------------------------+\n",
            "| NVIDIA-SMI 535.104.05             Driver Version: 535.104.05   CUDA Version: 12.2     |\n",
            "|-----------------------------------------+----------------------+----------------------+\n",
            "| GPU  Name                 Persistence-M | Bus-Id        Disp.A | Volatile Uncorr. ECC |\n",
            "| Fan  Temp   Perf          Pwr:Usage/Cap |         Memory-Usage | GPU-Util  Compute M. |\n",
            "|                                         |                      |               MIG M. |\n",
            "|=========================================+======================+======================|\n",
            "|   0  Tesla T4                       Off | 00000000:00:04.0 Off |                    0 |\n",
            "| N/A   37C    P8               9W /  70W |      0MiB / 15360MiB |      0%      Default |\n",
            "|                                         |                      |                  N/A |\n",
            "+-----------------------------------------+----------------------+----------------------+\n",
            "                                                                                         \n",
            "+---------------------------------------------------------------------------------------+\n",
            "| Processes:                                                                            |\n",
            "|  GPU   GI   CI        PID   Type   Process name                            GPU Memory |\n",
            "|        ID   ID                                                             Usage      |\n",
            "|=======================================================================================|\n",
            "|  No running processes found                                                           |\n",
            "+---------------------------------------------------------------------------------------+\n"
          ]
        }
      ]
    },
    {
      "cell_type": "code",
      "source": [
        "import torch\n",
        "import pandas as pd\n",
        "import numpy as np\n",
        "import matplotlib.pyplot as plt\n",
        "\n",
        "print (torch.__version__)"
      ],
      "metadata": {
        "colab": {
          "base_uri": "https://localhost:8080/"
        },
        "id": "gUOffNPxEeFy",
        "outputId": "63934368-16b9-404c-bee5-bbbc8722d9f9"
      },
      "execution_count": null,
      "outputs": [
        {
          "output_type": "stream",
          "name": "stdout",
          "text": [
            "2.2.1+cu121\n"
          ]
        }
      ]
    },
    {
      "cell_type": "markdown",
      "source": [
        "##Introduction Tensors\n",
        "###Creating Tensors\n",
        "\n"
      ],
      "metadata": {
        "id": "vWMfk6hPICe-"
      }
    },
    {
      "cell_type": "code",
      "source": [
        "#Scalar\n",
        "scalar = torch.tensor(100)\n",
        "scalar"
      ],
      "metadata": {
        "colab": {
          "base_uri": "https://localhost:8080/"
        },
        "id": "KOGlG313IWwP",
        "outputId": "aae33807-6d9c-411a-899b-5b78475f3c9b"
      },
      "execution_count": null,
      "outputs": [
        {
          "output_type": "execute_result",
          "data": {
            "text/plain": [
              "tensor(100)"
            ]
          },
          "metadata": {},
          "execution_count": 6
        }
      ]
    },
    {
      "cell_type": "code",
      "source": [
        "scalar.ndim"
      ],
      "metadata": {
        "colab": {
          "base_uri": "https://localhost:8080/"
        },
        "id": "1xiHORRDJDl6",
        "outputId": "040ef31b-d0a9-4c13-a37c-970c49fecc4f"
      },
      "execution_count": null,
      "outputs": [
        {
          "output_type": "execute_result",
          "data": {
            "text/plain": [
              "0"
            ]
          },
          "metadata": {},
          "execution_count": 8
        }
      ]
    },
    {
      "cell_type": "code",
      "source": [
        "scalar.item()"
      ],
      "metadata": {
        "colab": {
          "base_uri": "https://localhost:8080/"
        },
        "id": "Nu0QKWu2JDwj",
        "outputId": "1d0b0421-1681-41f7-8a90-c3145332267a"
      },
      "execution_count": null,
      "outputs": [
        {
          "output_type": "execute_result",
          "data": {
            "text/plain": [
              "100"
            ]
          },
          "metadata": {},
          "execution_count": 9
        }
      ]
    },
    {
      "cell_type": "code",
      "source": [
        "#Vector\n",
        "vector = torch.tensor([10,8]);\n",
        "vector"
      ],
      "metadata": {
        "colab": {
          "base_uri": "https://localhost:8080/"
        },
        "id": "ztUy1cffJVgp",
        "outputId": "23c22a95-1801-4291-834c-1bc6f8731b79"
      },
      "execution_count": null,
      "outputs": [
        {
          "output_type": "execute_result",
          "data": {
            "text/plain": [
              "tensor([10,  8])"
            ]
          },
          "metadata": {},
          "execution_count": 10
        }
      ]
    },
    {
      "cell_type": "code",
      "source": [
        "vector.ndim"
      ],
      "metadata": {
        "colab": {
          "base_uri": "https://localhost:8080/"
        },
        "id": "xkTPaSzcJVh8",
        "outputId": "f35c9d0b-631b-4a40-b579-3711dd043d3b"
      },
      "execution_count": null,
      "outputs": [
        {
          "output_type": "execute_result",
          "data": {
            "text/plain": [
              "1"
            ]
          },
          "metadata": {},
          "execution_count": 11
        }
      ]
    },
    {
      "cell_type": "code",
      "source": [
        "vector.shape"
      ],
      "metadata": {
        "colab": {
          "base_uri": "https://localhost:8080/"
        },
        "id": "kEvPSsTYJlGm",
        "outputId": "dca08a95-447f-4365-bbc3-4f3facd9ccf8"
      },
      "execution_count": null,
      "outputs": [
        {
          "output_type": "execute_result",
          "data": {
            "text/plain": [
              "torch.Size([2])"
            ]
          },
          "metadata": {},
          "execution_count": 13
        }
      ]
    },
    {
      "cell_type": "code",
      "source": [
        "#Matrix\n",
        "Matrix = torch.tensor([[19,90,2],[20,9,25]])\n",
        "Matrix"
      ],
      "metadata": {
        "colab": {
          "base_uri": "https://localhost:8080/"
        },
        "id": "BOhrPDWZJwbr",
        "outputId": "7aadc091-daf4-43c9-82ca-6b7597eb956d"
      },
      "execution_count": null,
      "outputs": [
        {
          "output_type": "execute_result",
          "data": {
            "text/plain": [
              "tensor([[19, 90,  2],\n",
              "        [20,  9, 25]])"
            ]
          },
          "metadata": {},
          "execution_count": 15
        }
      ]
    },
    {
      "cell_type": "code",
      "source": [
        "Matrix.ndim"
      ],
      "metadata": {
        "colab": {
          "base_uri": "https://localhost:8080/"
        },
        "id": "Gs-ctCgdJwlW",
        "outputId": "ff310f6a-1006-4010-b984-333b5ec114f5"
      },
      "execution_count": null,
      "outputs": [
        {
          "output_type": "execute_result",
          "data": {
            "text/plain": [
              "2"
            ]
          },
          "metadata": {},
          "execution_count": 17
        }
      ]
    },
    {
      "cell_type": "code",
      "source": [
        "Matrix.shape"
      ],
      "metadata": {
        "colab": {
          "base_uri": "https://localhost:8080/"
        },
        "id": "Fexqi8LeJwvz",
        "outputId": "183218ed-381d-4c93-8c98-d85a46ae41aa"
      },
      "execution_count": null,
      "outputs": [
        {
          "output_type": "execute_result",
          "data": {
            "text/plain": [
              "torch.Size([2, 3])"
            ]
          },
          "metadata": {},
          "execution_count": 18
        }
      ]
    },
    {
      "cell_type": "code",
      "source": [
        "random=torch.rand(size=(255,255,3))\n",
        "random"
      ],
      "metadata": {
        "colab": {
          "base_uri": "https://localhost:8080/"
        },
        "id": "nrUkgOjMJwxP",
        "outputId": "52ab6d89-f35d-4e58-a370-e5d7e8cbd39f"
      },
      "execution_count": null,
      "outputs": [
        {
          "output_type": "execute_result",
          "data": {
            "text/plain": [
              "tensor([[[0.3672, 0.2036, 0.8282],\n",
              "         [0.3707, 0.0894, 0.8296],\n",
              "         [0.2517, 0.9976, 0.6036],\n",
              "         ...,\n",
              "         [0.0656, 0.1403, 0.5911],\n",
              "         [0.1137, 0.6242, 0.3276],\n",
              "         [0.9108, 0.2921, 0.8802]],\n",
              "\n",
              "        [[0.0314, 0.2578, 0.8027],\n",
              "         [0.7245, 0.3049, 0.4091],\n",
              "         [0.9051, 0.2272, 0.1347],\n",
              "         ...,\n",
              "         [0.0100, 0.8588, 0.9750],\n",
              "         [0.1842, 0.9569, 0.4347],\n",
              "         [0.5704, 0.5491, 0.4055]],\n",
              "\n",
              "        [[0.4473, 0.4276, 0.7709],\n",
              "         [0.6702, 0.8604, 0.3508],\n",
              "         [0.4835, 0.2576, 0.6279],\n",
              "         ...,\n",
              "         [0.6253, 0.6588, 0.9130],\n",
              "         [0.5351, 0.3926, 0.7527],\n",
              "         [0.2962, 0.8661, 0.8505]],\n",
              "\n",
              "        ...,\n",
              "\n",
              "        [[0.2649, 0.8651, 0.2535],\n",
              "         [0.1304, 0.4810, 0.5921],\n",
              "         [0.5066, 0.9750, 0.5483],\n",
              "         ...,\n",
              "         [0.9675, 0.3650, 0.2027],\n",
              "         [0.4759, 0.4544, 0.2867],\n",
              "         [0.7244, 0.4695, 0.8410]],\n",
              "\n",
              "        [[0.2158, 0.3663, 0.9033],\n",
              "         [0.7687, 0.5927, 0.3303],\n",
              "         [0.3259, 0.6254, 0.8410],\n",
              "         ...,\n",
              "         [0.8001, 0.1786, 0.3985],\n",
              "         [0.4914, 0.2590, 0.5744],\n",
              "         [0.4231, 0.9582, 0.1765]],\n",
              "\n",
              "        [[0.2032, 0.1062, 0.2930],\n",
              "         [0.4422, 0.8804, 0.0777],\n",
              "         [0.3847, 0.6803, 0.1734],\n",
              "         ...,\n",
              "         [0.2593, 0.6652, 0.9366],\n",
              "         [0.5417, 0.6961, 0.1497],\n",
              "         [0.1757, 0.0720, 0.9437]]])"
            ]
          },
          "metadata": {},
          "execution_count": 30
        }
      ]
    },
    {
      "cell_type": "code",
      "source": [
        "random.shape"
      ],
      "metadata": {
        "colab": {
          "base_uri": "https://localhost:8080/"
        },
        "id": "xg1DmL5zJw2u",
        "outputId": "03feb409-01fd-4fc6-863e-076c6a70c8e6"
      },
      "execution_count": null,
      "outputs": [
        {
          "output_type": "execute_result",
          "data": {
            "text/plain": [
              "torch.Size([255, 255, 3])"
            ]
          },
          "metadata": {},
          "execution_count": 20
        }
      ]
    },
    {
      "cell_type": "code",
      "source": [
        "random.ndim"
      ],
      "metadata": {
        "colab": {
          "base_uri": "https://localhost:8080/"
        },
        "id": "r6grgGuTJw4E",
        "outputId": "185126f1-e252-47bc-d79a-bd88acbb0ebb"
      },
      "execution_count": null,
      "outputs": [
        {
          "output_type": "execute_result",
          "data": {
            "text/plain": [
              "3"
            ]
          },
          "metadata": {},
          "execution_count": 21
        }
      ]
    },
    {
      "cell_type": "code",
      "source": [
        "random.dtype"
      ],
      "metadata": {
        "colab": {
          "base_uri": "https://localhost:8080/"
        },
        "id": "bN1NOz1cJw8P",
        "outputId": "80d88129-cc9b-4424-c579-78a90e8cf74e"
      },
      "execution_count": null,
      "outputs": [
        {
          "output_type": "execute_result",
          "data": {
            "text/plain": [
              "torch.float32"
            ]
          },
          "metadata": {},
          "execution_count": 22
        }
      ]
    },
    {
      "cell_type": "code",
      "source": [
        "random*100"
      ],
      "metadata": {
        "colab": {
          "base_uri": "https://localhost:8080/"
        },
        "id": "IrlJ8m9GJw9u",
        "outputId": "648019c3-3758-4bdc-b9dc-fcc244446ea8"
      },
      "execution_count": null,
      "outputs": [
        {
          "output_type": "execute_result",
          "data": {
            "text/plain": [
              "tensor([[[36.7193, 20.3595, 82.8226],\n",
              "         [37.0652,  8.9360, 82.9593],\n",
              "         [25.1654, 99.7639, 60.3576],\n",
              "         ...,\n",
              "         [ 6.5605, 14.0319, 59.1139],\n",
              "         [11.3749, 62.4226, 32.7553],\n",
              "         [91.0848, 29.2123, 88.0203]],\n",
              "\n",
              "        [[ 3.1404, 25.7757, 80.2719],\n",
              "         [72.4529, 30.4861, 40.9058],\n",
              "         [90.5135, 22.7222, 13.4675],\n",
              "         ...,\n",
              "         [ 1.0048, 85.8775, 97.4965],\n",
              "         [18.4173, 95.6921, 43.4696],\n",
              "         [57.0445, 54.9054, 40.5460]],\n",
              "\n",
              "        [[44.7283, 42.7579, 77.0943],\n",
              "         [67.0166, 86.0380, 35.0764],\n",
              "         [48.3497, 25.7605, 62.7866],\n",
              "         ...,\n",
              "         [62.5263, 65.8818, 91.2959],\n",
              "         [53.5112, 39.2586, 75.2660],\n",
              "         [29.6176, 86.6078, 85.0515]],\n",
              "\n",
              "        ...,\n",
              "\n",
              "        [[26.4941, 86.5132, 25.3466],\n",
              "         [13.0351, 48.1026, 59.2129],\n",
              "         [50.6556, 97.5048, 54.8334],\n",
              "         ...,\n",
              "         [96.7478, 36.4956, 20.2713],\n",
              "         [47.5899, 45.4419, 28.6710],\n",
              "         [72.4376, 46.9530, 84.0993]],\n",
              "\n",
              "        [[21.5812, 36.6328, 90.3332],\n",
              "         [76.8660, 59.2731, 33.0314],\n",
              "         [32.5937, 62.5407, 84.1030],\n",
              "         ...,\n",
              "         [80.0069, 17.8631, 39.8495],\n",
              "         [49.1440, 25.8969, 57.4433],\n",
              "         [42.3062, 95.8172, 17.6486]],\n",
              "\n",
              "        [[20.3151, 10.6229, 29.3019],\n",
              "         [44.2195, 88.0400,  7.7675],\n",
              "         [38.4653, 68.0256, 17.3444],\n",
              "         ...,\n",
              "         [25.9285, 66.5156, 93.6579],\n",
              "         [54.1748, 69.6138, 14.9671],\n",
              "         [17.5681,  7.1990, 94.3667]]])"
            ]
          },
          "metadata": {},
          "execution_count": 31
        }
      ]
    },
    {
      "cell_type": "code",
      "source": [
        "random=random.to(torch.int32)\n",
        "random.dtype"
      ],
      "metadata": {
        "colab": {
          "base_uri": "https://localhost:8080/"
        },
        "id": "NXkxXWDgJxCJ",
        "outputId": "48305bb5-719a-4de2-b6b5-8c0958ecf822"
      },
      "execution_count": null,
      "outputs": [
        {
          "output_type": "execute_result",
          "data": {
            "text/plain": [
              "torch.int32"
            ]
          },
          "metadata": {},
          "execution_count": 34
        }
      ]
    },
    {
      "cell_type": "code",
      "source": [
        "ZERO=torch.zeros(size=(3,3))\n",
        "ZERO\n",
        "ZERO.dtype"
      ],
      "metadata": {
        "colab": {
          "base_uri": "https://localhost:8080/"
        },
        "id": "alPywIukJxDt",
        "outputId": "e94c22e3-7bf9-4a59-b012-b64c9c14478c"
      },
      "execution_count": null,
      "outputs": [
        {
          "output_type": "execute_result",
          "data": {
            "text/plain": [
              "torch.float32"
            ]
          },
          "metadata": {},
          "execution_count": 39
        }
      ]
    },
    {
      "cell_type": "code",
      "source": [
        "ONES=torch.ones(size=(3,3))\n",
        "ONES\n",
        "ONES.dtype"
      ],
      "metadata": {
        "colab": {
          "base_uri": "https://localhost:8080/"
        },
        "id": "lmdSAjhcJxHf",
        "outputId": "901c73dd-f855-43f2-c9be-3f87ec319d99"
      },
      "execution_count": null,
      "outputs": [
        {
          "output_type": "execute_result",
          "data": {
            "text/plain": [
              "torch.float32"
            ]
          },
          "metadata": {},
          "execution_count": 38
        }
      ]
    },
    {
      "cell_type": "code",
      "source": [
        "zero_to_ten_rang=torch.range(0,10)\n",
        "zero_to_ten_rang"
      ],
      "metadata": {
        "colab": {
          "base_uri": "https://localhost:8080/"
        },
        "id": "UREWdzQUJxJL",
        "outputId": "2a4f6d61-ca85-4490-bcb7-a4825b3e8aca"
      },
      "execution_count": null,
      "outputs": [
        {
          "output_type": "stream",
          "name": "stderr",
          "text": [
            "<ipython-input-41-dbf8ea886e04>:1: UserWarning: torch.range is deprecated and will be removed in a future release because its behavior is inconsistent with Python's range builtin. Instead, use torch.arange, which produces values in [start, end).\n",
            "  zero_to_ten_rang=torch.range(0,10)\n"
          ]
        },
        {
          "output_type": "execute_result",
          "data": {
            "text/plain": [
              "tensor([ 0.,  1.,  2.,  3.,  4.,  5.,  6.,  7.,  8.,  9., 10.])"
            ]
          },
          "metadata": {},
          "execution_count": 41
        }
      ]
    },
    {
      "cell_type": "code",
      "source": [
        "zero_to_ten_aange=torch.arange(start=1,end=11,step=1)\n",
        "zero_to_ten_aange"
      ],
      "metadata": {
        "colab": {
          "base_uri": "https://localhost:8080/"
        },
        "id": "v43Fc21gJxNf",
        "outputId": "befc0ae9-7c05-4e3c-c025-c7f83ba513ae"
      },
      "execution_count": null,
      "outputs": [
        {
          "output_type": "execute_result",
          "data": {
            "text/plain": [
              "tensor([ 1,  2,  3,  4,  5,  6,  7,  8,  9, 10])"
            ]
          },
          "metadata": {},
          "execution_count": 42
        }
      ]
    },
    {
      "cell_type": "code",
      "source": [
        "some_tensor=torch.rand(3,4)\n",
        "some_tensor"
      ],
      "metadata": {
        "colab": {
          "base_uri": "https://localhost:8080/"
        },
        "id": "0_Y1bNp8Xi-P",
        "outputId": "92e7284a-0efe-4dac-cef8-6bacbd289923"
      },
      "execution_count": null,
      "outputs": [
        {
          "output_type": "execute_result",
          "data": {
            "text/plain": [
              "tensor([[0.1368, 0.8443, 0.1277, 0.6208],\n",
              "        [0.6052, 0.3253, 0.0464, 0.7171],\n",
              "        [0.9764, 0.3846, 0.6625, 0.3528]])"
            ]
          },
          "metadata": {},
          "execution_count": 43
        }
      ]
    },
    {
      "cell_type": "code",
      "source": [
        "some_tensor.dtype , some_tensor.shape , some_tensor.device"
      ],
      "metadata": {
        "colab": {
          "base_uri": "https://localhost:8080/"
        },
        "id": "fTei-iK_Xmts",
        "outputId": "b6b453e6-aee7-4c61-ec26-1dce69be0919"
      },
      "execution_count": null,
      "outputs": [
        {
          "output_type": "execute_result",
          "data": {
            "text/plain": [
              "(torch.float32, torch.Size([3, 4]), device(type='cpu'))"
            ]
          },
          "metadata": {},
          "execution_count": 45
        }
      ]
    },
    {
      "cell_type": "code",
      "source": [
        "torch.mul(some_tensor,10)"
      ],
      "metadata": {
        "colab": {
          "base_uri": "https://localhost:8080/"
        },
        "id": "uuvXs4iGZnV5",
        "outputId": "7cb71a56-77db-4261-f4f7-f31bd9350522"
      },
      "execution_count": null,
      "outputs": [
        {
          "output_type": "execute_result",
          "data": {
            "text/plain": [
              "tensor([[1.3680, 8.4426, 1.2768, 6.2076],\n",
              "        [6.0520, 3.2529, 0.4645, 7.1711],\n",
              "        [9.7637, 3.8460, 6.6249, 3.5277]])"
            ]
          },
          "metadata": {},
          "execution_count": 50
        }
      ]
    },
    {
      "cell_type": "code",
      "source": [
        "some_tensor.shape"
      ],
      "metadata": {
        "colab": {
          "base_uri": "https://localhost:8080/"
        },
        "id": "3Zzrwm7OaEqh",
        "outputId": "66ef80b3-b129-422a-ac12-0fa8ecb0398a"
      },
      "execution_count": null,
      "outputs": [
        {
          "output_type": "execute_result",
          "data": {
            "text/plain": [
              "torch.Size([3, 4])"
            ]
          },
          "metadata": {},
          "execution_count": 52
        }
      ]
    },
    {
      "cell_type": "code",
      "source": [
        "filter=torch.rand(4,3)\n",
        "filter"
      ],
      "metadata": {
        "colab": {
          "base_uri": "https://localhost:8080/"
        },
        "id": "hCh0J6WGaFC6",
        "outputId": "40c1d43e-a4b5-44f9-de51-510d6d1fbd3e"
      },
      "execution_count": null,
      "outputs": [
        {
          "output_type": "execute_result",
          "data": {
            "text/plain": [
              "tensor([[0.3989, 0.6335, 0.6120],\n",
              "        [0.1516, 0.9492, 0.5705],\n",
              "        [0.6144, 0.6575, 0.4515],\n",
              "        [0.3900, 0.9895, 0.0627]])"
            ]
          },
          "metadata": {},
          "execution_count": 55
        }
      ]
    },
    {
      "cell_type": "code",
      "source": [
        "some_tensor.shape"
      ],
      "metadata": {
        "colab": {
          "base_uri": "https://localhost:8080/"
        },
        "id": "RjpAvRCSaFVu",
        "outputId": "5e3acfa9-80cc-44d7-b107-893645535072"
      },
      "execution_count": null,
      "outputs": [
        {
          "output_type": "execute_result",
          "data": {
            "text/plain": [
              "torch.Size([3, 4])"
            ]
          },
          "metadata": {},
          "execution_count": 58
        }
      ]
    },
    {
      "cell_type": "code",
      "source": [
        "torch.matmul(filter,some_tensor)"
      ],
      "metadata": {
        "colab": {
          "base_uri": "https://localhost:8080/"
        },
        "id": "fxoit78baFna",
        "outputId": "2abbc0d7-7e13-4a9e-f1b2-c44ec870cc64"
      },
      "execution_count": null,
      "outputs": [
        {
          "output_type": "execute_result",
          "data": {
            "text/plain": [
              "tensor([[1.0355, 0.7782, 0.4858, 0.9178],\n",
              "        [1.1522, 0.6562, 0.4414, 0.9760],\n",
              "        [0.9228, 0.9062, 0.4081, 1.0121],\n",
              "        [0.7134, 0.6752, 0.1373, 0.9738]])"
            ]
          },
          "metadata": {},
          "execution_count": 60
        }
      ]
    },
    {
      "cell_type": "code",
      "source": [
        "matrix_a=torch.rand(3,4)\n",
        "matrix_b=torch.rand(3,4)"
      ],
      "metadata": {
        "id": "GdSB1RNcaF1r"
      },
      "execution_count": null,
      "outputs": []
    },
    {
      "cell_type": "code",
      "source": [
        "matrix_a"
      ],
      "metadata": {
        "colab": {
          "base_uri": "https://localhost:8080/"
        },
        "id": "LrPBpSUYcMOQ",
        "outputId": "0bb8d774-0f9a-4787-9257-1c02fc806623"
      },
      "execution_count": null,
      "outputs": [
        {
          "output_type": "execute_result",
          "data": {
            "text/plain": [
              "tensor([[0.4176, 0.3944, 0.1736, 0.5939],\n",
              "        [0.4966, 0.9887, 0.7306, 0.0641],\n",
              "        [0.2534, 0.6092, 0.2099, 0.7395]])"
            ]
          },
          "metadata": {},
          "execution_count": 63
        }
      ]
    },
    {
      "cell_type": "code",
      "source": [
        "matrix_b , matrix_b.T"
      ],
      "metadata": {
        "colab": {
          "base_uri": "https://localhost:8080/"
        },
        "id": "MLCbOfSlcQWe",
        "outputId": "fce81428-3e79-4e88-e5aa-39a7179aecaa"
      },
      "execution_count": null,
      "outputs": [
        {
          "output_type": "execute_result",
          "data": {
            "text/plain": [
              "(tensor([[0.6756, 0.0932, 0.1864, 0.7331],\n",
              "         [0.4758, 0.3003, 0.7399, 0.2406],\n",
              "         [0.8039, 0.8626, 0.8065, 0.4238]]),\n",
              " tensor([[0.6756, 0.4758, 0.8039],\n",
              "         [0.0932, 0.3003, 0.8626],\n",
              "         [0.1864, 0.7399, 0.8065],\n",
              "         [0.7331, 0.2406, 0.4238]]))"
            ]
          },
          "metadata": {},
          "execution_count": 66
        }
      ]
    },
    {
      "cell_type": "code",
      "source": [
        "torch.matmul(matrix_a,matrix_b.T)"
      ],
      "metadata": {
        "colab": {
          "base_uri": "https://localhost:8080/"
        },
        "id": "qnnG25eyaGGb",
        "outputId": "fbedc9f8-bd32-416a-bf61-fe523f10c72a"
      },
      "execution_count": null,
      "outputs": [
        {
          "output_type": "execute_result",
          "data": {
            "text/plain": [
              "tensor([[1.2264, 1.3899, 2.3046],\n",
              "        [0.4501, 0.5272, 0.9733],\n",
              "        [0.7285, 0.6217, 1.3228]])"
            ]
          },
          "metadata": {},
          "execution_count": 67
        }
      ]
    },
    {
      "cell_type": "code",
      "source": [
        "import torch\n",
        "import pandas as pd\n",
        "import numpy as np\n",
        "import matplotlib.pyplot as plt\n",
        "\n",
        "print (torch.__version__)\n",
        "\n",
        "a=torch.tensor([[1,2,3],\n",
        "                       [5,6,7],\n",
        "                       [8,9,10]],dtype=torch.float16)\n",
        "a\n"
      ],
      "metadata": {
        "colab": {
          "base_uri": "https://localhost:8080/"
        },
        "id": "8Ly__Y_USfIj",
        "outputId": "bacf8c28-ca48-449b-d156-9300a9981551"
      },
      "execution_count": null,
      "outputs": [
        {
          "output_type": "stream",
          "name": "stdout",
          "text": [
            "2.2.1+cu121\n"
          ]
        },
        {
          "output_type": "execute_result",
          "data": {
            "text/plain": [
              "tensor([[ 1.,  2.,  3.],\n",
              "        [ 5.,  6.,  7.],\n",
              "        [ 8.,  9., 10.]], dtype=torch.float16)"
            ]
          },
          "metadata": {},
          "execution_count": 13
        }
      ]
    },
    {
      "cell_type": "code",
      "source": [
        "torch.manual_seed(42)\n",
        "linear=torch.nn.Linear(in_features=2,out_features=6)\n",
        "# Option 1: Cast the input tensor to the same data type as the weights and biases of the linear module\n",
        "x = x.float()\n",
        "output = linear(x)\n",
        "\n",
        "# Option 2: Cast the weights and biases of the linear module to the same data type as the input tensor\n",
        "linear.weight.data = linear.weight.data.float()\n",
        "linear.bias.data = linear.bias.data.float()\n",
        "output = linear(x)\n",
        "# x=a\n",
        "output=linear(x)\n",
        "output\n",
        "linear"
      ],
      "metadata": {
        "colab": {
          "base_uri": "https://localhost:8080/",
          "height": 408
        },
        "id": "c_kcIKAKUChY",
        "outputId": "db6b15be-22a9-478f-96a7-79cde323da83"
      },
      "execution_count": null,
      "outputs": [
        {
          "output_type": "error",
          "ename": "RuntimeError",
          "evalue": "mat1 and mat2 shapes cannot be multiplied (3x3 and 2x6)",
          "traceback": [
            "\u001b[0;31m---------------------------------------------------------------------------\u001b[0m",
            "\u001b[0;31mRuntimeError\u001b[0m                              Traceback (most recent call last)",
            "\u001b[0;32m<ipython-input-20-edc14d103d34>\u001b[0m in \u001b[0;36m<cell line: 5>\u001b[0;34m()\u001b[0m\n\u001b[1;32m      3\u001b[0m \u001b[0;31m# Option 1: Cast the input tensor to the same data type as the weights and biases of the linear module\u001b[0m\u001b[0;34m\u001b[0m\u001b[0;34m\u001b[0m\u001b[0m\n\u001b[1;32m      4\u001b[0m \u001b[0mx\u001b[0m \u001b[0;34m=\u001b[0m \u001b[0mx\u001b[0m\u001b[0;34m.\u001b[0m\u001b[0mfloat\u001b[0m\u001b[0;34m(\u001b[0m\u001b[0;34m)\u001b[0m\u001b[0;34m\u001b[0m\u001b[0;34m\u001b[0m\u001b[0m\n\u001b[0;32m----> 5\u001b[0;31m \u001b[0moutput\u001b[0m \u001b[0;34m=\u001b[0m \u001b[0mlinear\u001b[0m\u001b[0;34m(\u001b[0m\u001b[0mx\u001b[0m\u001b[0;34m)\u001b[0m\u001b[0;34m\u001b[0m\u001b[0;34m\u001b[0m\u001b[0m\n\u001b[0m\u001b[1;32m      6\u001b[0m \u001b[0;34m\u001b[0m\u001b[0m\n\u001b[1;32m      7\u001b[0m \u001b[0;31m# Option 2: Cast the weights and biases of the linear module to the same data type as the input tensor\u001b[0m\u001b[0;34m\u001b[0m\u001b[0;34m\u001b[0m\u001b[0m\n",
            "\u001b[0;32m/usr/local/lib/python3.10/dist-packages/torch/nn/modules/module.py\u001b[0m in \u001b[0;36m_wrapped_call_impl\u001b[0;34m(self, *args, **kwargs)\u001b[0m\n\u001b[1;32m   1509\u001b[0m             \u001b[0;32mreturn\u001b[0m \u001b[0mself\u001b[0m\u001b[0;34m.\u001b[0m\u001b[0m_compiled_call_impl\u001b[0m\u001b[0;34m(\u001b[0m\u001b[0;34m*\u001b[0m\u001b[0margs\u001b[0m\u001b[0;34m,\u001b[0m \u001b[0;34m**\u001b[0m\u001b[0mkwargs\u001b[0m\u001b[0;34m)\u001b[0m  \u001b[0;31m# type: ignore[misc]\u001b[0m\u001b[0;34m\u001b[0m\u001b[0;34m\u001b[0m\u001b[0m\n\u001b[1;32m   1510\u001b[0m         \u001b[0;32melse\u001b[0m\u001b[0;34m:\u001b[0m\u001b[0;34m\u001b[0m\u001b[0;34m\u001b[0m\u001b[0m\n\u001b[0;32m-> 1511\u001b[0;31m             \u001b[0;32mreturn\u001b[0m \u001b[0mself\u001b[0m\u001b[0;34m.\u001b[0m\u001b[0m_call_impl\u001b[0m\u001b[0;34m(\u001b[0m\u001b[0;34m*\u001b[0m\u001b[0margs\u001b[0m\u001b[0;34m,\u001b[0m \u001b[0;34m**\u001b[0m\u001b[0mkwargs\u001b[0m\u001b[0;34m)\u001b[0m\u001b[0;34m\u001b[0m\u001b[0;34m\u001b[0m\u001b[0m\n\u001b[0m\u001b[1;32m   1512\u001b[0m \u001b[0;34m\u001b[0m\u001b[0m\n\u001b[1;32m   1513\u001b[0m     \u001b[0;32mdef\u001b[0m \u001b[0m_call_impl\u001b[0m\u001b[0;34m(\u001b[0m\u001b[0mself\u001b[0m\u001b[0;34m,\u001b[0m \u001b[0;34m*\u001b[0m\u001b[0margs\u001b[0m\u001b[0;34m,\u001b[0m \u001b[0;34m**\u001b[0m\u001b[0mkwargs\u001b[0m\u001b[0;34m)\u001b[0m\u001b[0;34m:\u001b[0m\u001b[0;34m\u001b[0m\u001b[0;34m\u001b[0m\u001b[0m\n",
            "\u001b[0;32m/usr/local/lib/python3.10/dist-packages/torch/nn/modules/module.py\u001b[0m in \u001b[0;36m_call_impl\u001b[0;34m(self, *args, **kwargs)\u001b[0m\n\u001b[1;32m   1518\u001b[0m                 \u001b[0;32mor\u001b[0m \u001b[0m_global_backward_pre_hooks\u001b[0m \u001b[0;32mor\u001b[0m \u001b[0m_global_backward_hooks\u001b[0m\u001b[0;34m\u001b[0m\u001b[0;34m\u001b[0m\u001b[0m\n\u001b[1;32m   1519\u001b[0m                 or _global_forward_hooks or _global_forward_pre_hooks):\n\u001b[0;32m-> 1520\u001b[0;31m             \u001b[0;32mreturn\u001b[0m \u001b[0mforward_call\u001b[0m\u001b[0;34m(\u001b[0m\u001b[0;34m*\u001b[0m\u001b[0margs\u001b[0m\u001b[0;34m,\u001b[0m \u001b[0;34m**\u001b[0m\u001b[0mkwargs\u001b[0m\u001b[0;34m)\u001b[0m\u001b[0;34m\u001b[0m\u001b[0;34m\u001b[0m\u001b[0m\n\u001b[0m\u001b[1;32m   1521\u001b[0m \u001b[0;34m\u001b[0m\u001b[0m\n\u001b[1;32m   1522\u001b[0m         \u001b[0;32mtry\u001b[0m\u001b[0;34m:\u001b[0m\u001b[0;34m\u001b[0m\u001b[0;34m\u001b[0m\u001b[0m\n",
            "\u001b[0;32m/usr/local/lib/python3.10/dist-packages/torch/nn/modules/linear.py\u001b[0m in \u001b[0;36mforward\u001b[0;34m(self, input)\u001b[0m\n\u001b[1;32m    114\u001b[0m \u001b[0;34m\u001b[0m\u001b[0m\n\u001b[1;32m    115\u001b[0m     \u001b[0;32mdef\u001b[0m \u001b[0mforward\u001b[0m\u001b[0;34m(\u001b[0m\u001b[0mself\u001b[0m\u001b[0;34m,\u001b[0m \u001b[0minput\u001b[0m\u001b[0;34m:\u001b[0m \u001b[0mTensor\u001b[0m\u001b[0;34m)\u001b[0m \u001b[0;34m->\u001b[0m \u001b[0mTensor\u001b[0m\u001b[0;34m:\u001b[0m\u001b[0;34m\u001b[0m\u001b[0;34m\u001b[0m\u001b[0m\n\u001b[0;32m--> 116\u001b[0;31m         \u001b[0;32mreturn\u001b[0m \u001b[0mF\u001b[0m\u001b[0;34m.\u001b[0m\u001b[0mlinear\u001b[0m\u001b[0;34m(\u001b[0m\u001b[0minput\u001b[0m\u001b[0;34m,\u001b[0m \u001b[0mself\u001b[0m\u001b[0;34m.\u001b[0m\u001b[0mweight\u001b[0m\u001b[0;34m,\u001b[0m \u001b[0mself\u001b[0m\u001b[0;34m.\u001b[0m\u001b[0mbias\u001b[0m\u001b[0;34m)\u001b[0m\u001b[0;34m\u001b[0m\u001b[0;34m\u001b[0m\u001b[0m\n\u001b[0m\u001b[1;32m    117\u001b[0m \u001b[0;34m\u001b[0m\u001b[0m\n\u001b[1;32m    118\u001b[0m     \u001b[0;32mdef\u001b[0m \u001b[0mextra_repr\u001b[0m\u001b[0;34m(\u001b[0m\u001b[0mself\u001b[0m\u001b[0;34m)\u001b[0m \u001b[0;34m->\u001b[0m \u001b[0mstr\u001b[0m\u001b[0;34m:\u001b[0m\u001b[0;34m\u001b[0m\u001b[0;34m\u001b[0m\u001b[0m\n",
            "\u001b[0;31mRuntimeError\u001b[0m: mat1 and mat2 shapes cannot be multiplied (3x3 and 2x6)"
          ]
        }
      ]
    },
    {
      "cell_type": "code",
      "source": [
        "tensor_A = torch.tensor([[1, 2],\n",
        "                         [3, 4],\n",
        "                         [5, 6]], dtype=torch.float32)\n",
        "# Since the linear layer starts with a random weights matrix, let's make it reproducible (more on this later)\n",
        "torch.manual_seed(42)\n",
        "# This uses matrix multiplication\n",
        "linear = torch.nn.Linear(in_features=2, # in_features = matches inner dimension of input\n",
        "                         out_features=5) # out_features = describes outer value\n",
        "x = tensor_A\n",
        "output = linear(x)\n",
        "print(f\"Input shape: {x.shape}\\n\")\n",
        "print(f\"Output:\\n{output}\\n\\nOutput shape: {output.shape}\")"
      ],
      "metadata": {
        "colab": {
          "base_uri": "https://localhost:8080/"
        },
        "id": "WDDlp-ErUI2Z",
        "outputId": "95ccf81f-a99d-44e6-c0c2-a5362a8504af"
      },
      "execution_count": null,
      "outputs": [
        {
          "output_type": "stream",
          "name": "stdout",
          "text": [
            "Input shape: torch.Size([3, 2])\n",
            "\n",
            "Output:\n",
            "tensor([[ 2.3290,  1.2658,  0.6529,  0.5820, -0.0732],\n",
            "        [ 4.5841,  2.2336,  0.6284,  0.7241,  0.1360],\n",
            "        [ 6.8391,  3.2014,  0.6039,  0.8661,  0.3452]],\n",
            "       grad_fn=<AddmmBackward0>)\n",
            "\n",
            "Output shape: torch.Size([3, 5])\n"
          ]
        }
      ]
    }
  ]
}